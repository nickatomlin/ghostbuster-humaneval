{
 "cells": [
  {
   "cell_type": "code",
   "execution_count": 1,
   "metadata": {},
   "outputs": [],
   "source": [
    "import os"
   ]
  },
  {
   "cell_type": "code",
   "execution_count": 6,
   "metadata": {},
   "outputs": [],
   "source": [
    "data_root = \"../ghostbuster/data/wp/gpt/\"\n",
    "new_data_root = \"ai/\"\n",
    "for filename in os.listdir(data_root):\n",
    "    if filename.endswith(\".txt\"):\n",
    "        path = os.path.join(data_root, filename)\n",
    "        new_filename = \"wp-\" + filename\n",
    "        # Copy file to human/ folder:\n",
    "        os.system(\"cp \" + path + \" \" + new_data_root + new_filename)"
   ]
  },
  {
   "cell_type": "code",
   "execution_count": 12,
   "metadata": {},
   "outputs": [],
   "source": [
    "data_root = \"../ghostbuster/data/reuter/gpt/\"\n",
    "new_data_root = \"ai/\"\n",
    "# Get all .txt files in nested folders:\n",
    "for root, dirs, files in os.walk(data_root):\n",
    "    if \"logprobs\" in root:\n",
    "        continue\n",
    "    for filename in files:\n",
    "        if filename.endswith(\".txt\"):\n",
    "            path = os.path.join(root, filename)\n",
    "            # Make sure new filename is unique:\n",
    "            new_filename = \"reuter-\" + str(root.split(\"/\")[-1]) + \"-\" + filename\n",
    "            # Copy file to human/ folder:\n",
    "            os.system(\"cp \" + path + \" \" + new_data_root + new_filename)"
   ]
  },
  {
   "cell_type": "code",
   "execution_count": 13,
   "metadata": {},
   "outputs": [
    {
     "name": "stdout",
     "output_type": "stream",
     "text": [
      "Number of files in human directory:  2980\n",
      "Number of files in AI directory:  3000\n"
     ]
    }
   ],
   "source": [
    "print(\"Number of files in human directory: \", len(os.listdir(\"human/\")))\n",
    "print(\"Number of files in AI directory: \", len(os.listdir(\"ai/\")))"
   ]
  },
  {
   "cell_type": "code",
   "execution_count": null,
   "metadata": {},
   "outputs": [],
   "source": []
  }
 ],
 "metadata": {
  "kernelspec": {
   "display_name": "py38",
   "language": "python",
   "name": "python3"
  },
  "language_info": {
   "codemirror_mode": {
    "name": "ipython",
    "version": 3
   },
   "file_extension": ".py",
   "mimetype": "text/x-python",
   "name": "python",
   "nbconvert_exporter": "python",
   "pygments_lexer": "ipython3",
   "version": "3.8.10"
  }
 },
 "nbformat": 4,
 "nbformat_minor": 2
}
